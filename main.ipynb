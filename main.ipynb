{
  "nbformat": 4,
  "nbformat_minor": 0,
  "metadata": {
    "colab": {
      "name": "AE.ipynb",
      "provenance": [],
      "collapsed_sections": []
    },
    "kernelspec": {
      "name": "python3",
      "display_name": "Python 3"
    },
    "accelerator": "GPU"
  },
  "cells": [
    {
      "cell_type": "code",
      "metadata": {
        "id": "UMB8_iBrJ9XT",
        "colab_type": "code",
        "colab": {}
      },
      "source": [
        "import matplotlib.pyplot as plt\n",
        "import torch\n",
        "from torch import nn, optim\n",
        "import torch.nn.functional as F\n",
        "import numpy as np\n",
        "from torch.autograd import Variable\n",
        "from torchvision import datasets, transforms"
      ],
      "execution_count": 1,
      "outputs": []
    },
    {
      "cell_type": "code",
      "metadata": {
        "id": "aobY5o5HKolT",
        "colab_type": "code",
        "colab": {}
      },
      "source": [
        "##Defining a transform to normalize the data and convert it to tensor\n",
        "transform =transforms.Compose([transforms.ToTensor()\n",
        "                               ,transforms.Normalize((0.5),(0.5))\n",
        "                               ])"
      ],
      "execution_count": 2,
      "outputs": []
    },
    {
      "cell_type": "markdown",
      "metadata": {
        "id": "9fabkGXZLZY1",
        "colab_type": "text"
      },
      "source": [
        "\n",
        "\n",
        "In general, the exactly normalization of data isn't super important in neural networks as long as the inputs are at some reasonable scale.with images, normalization to 0 and 1 happens to be very convenient.\n",
        "\n",
        "The fact that normalization doesn't matter much is only made stronger by use of batch-normalization, which is a function/layer frequently used in neural networks which renormalizes the activations halfway through the network to zero mean and unit variance. \n",
        "\n"
      ]
    },
    {
      "cell_type": "markdown",
      "metadata": {
        "id": "fnKp4yZpMBu4",
        "colab_type": "text"
      },
      "source": [
        "#### Download and loading the train data"
      ]
    },
    {
      "cell_type": "code",
      "metadata": {
        "id": "FAnovWPNLwvL",
        "colab_type": "code",
        "colab": {}
      },
      "source": [
        "trainset =datasets.FashionMNIST('~/.pytorch/F_MNIST_data/',download=True,train=True, transform=transform)\n",
        "trainloader =torch.utils.data.DataLoader(trainset,batch_size=64,shuffle=True)\n"
      ],
      "execution_count": null,
      "outputs": []
    },
    {
      "cell_type": "markdown",
      "metadata": {
        "id": "6sTJiyIqMEFo",
        "colab_type": "text"
      },
      "source": [
        "####Download and load the test data"
      ]
    },
    {
      "cell_type": "code",
      "metadata": {
        "id": "u4ACGriYMF1q",
        "colab_type": "code",
        "colab": {}
      },
      "source": [
        "testset =datasets.FashionMNIST('~/.pytorch/F_MNIST_data/',download=True,train=False, transform=transform)\n",
        "testloader =torch.utils.data.DataLoader(trainset,batch_size=64,shuffle=True)"
      ],
      "execution_count": 4,
      "outputs": []
    },
    {
      "cell_type": "code",
      "metadata": {
        "id": "phkjx4zbNYLu",
        "colab_type": "code",
        "colab": {}
      },
      "source": [
        "\n",
        "def imshow(image, ax=None, title=None, normalize=True):\n",
        "    \"\"\"Imshow for Tensor.\"\"\"\n",
        "    if ax is None:\n",
        "        fig, ax = plt.subplots()\n",
        "    image = image.numpy().transpose((1, 2, 0))\n",
        "\n",
        "    if normalize:\n",
        "        mean = np.array([0.485, 0.456, 0.406])\n",
        "        std = np.array([0.229, 0.224, 0.225])\n",
        "        image = std * image + mean\n",
        "        image = np.clip(image, 0, 2)\n",
        "\n",
        "    ax.imshow(image)\n",
        "    \n",
        "    return ax"
      ],
      "execution_count": 5,
      "outputs": []
    },
    {
      "cell_type": "code",
      "metadata": {
        "id": "7vZ5NFCHMtLf",
        "colab_type": "code",
        "colab": {
          "base_uri": "https://localhost:8080/",
          "height": 336
        },
        "outputId": "0c694b3a-3b8a-4979-c089-a69c918845fb"
      },
      "source": [
        "image ,label =next(iter(trainloader))\n",
        "imshow(image[0,:])"
      ],
      "execution_count": 6,
      "outputs": [
        {
          "output_type": "stream",
          "text": [
            "\n",
            "\n"
          ],
          "name": "stdout"
        },
        {
          "output_type": "execute_result",
          "data": {
            "text/plain": [
              "<matplotlib.axes._subplots.AxesSubplot at 0x7fa30f6b73c8>"
            ]
          },
          "metadata": {
            "tags": []
          },
          "execution_count": 6
        },
        {
          "output_type": "display_data",
          "data": {
            "image/png": "[encoded data removed]",
            "text/plain": [
              "<Figure size 432x288 with 1 Axes>"
            ]
          },
          "metadata": {
            "tags": [],
            "needs_background": "light"
          }
        },
        {
          "output_type": "stream",
          "text": [
            "\n"
          ],
          "name": "stdout"
        }
      ]
    },
    {
      "cell_type": "code",
      "metadata": {
        "id": "ttk-qRUSPT6e",
        "colab_type": "code",
        "colab": {
          "base_uri": "https://localhost:8080/",
          "height": 35
        },
        "outputId": "a131ae79-9ae3-4558-ad6b-4f0b2b290ccf"
      },
      "source": [
        "len(trainset.classes) ##we have 10 classes"
      ],
      "execution_count": null,
      "outputs": [
        {
          "output_type": "execute_result",
          "data": {
            "text/plain": [
              "10"
            ]
          },
          "metadata": {
            "tags": []
          },
          "execution_count": 47
        }
      ]
    },
    {
      "cell_type": "markdown",
      "metadata": {
        "id": "hywAVkAPPn92",
        "colab_type": "text"
      },
      "source": [
        "####Modeling"
      ]
    },
    {
      "cell_type": "markdown",
      "metadata": {
        "id": "PQ0ZBgi2P55g",
        "colab_type": "text"
      },
      "source": [
        "In this modelling ,we're going to implement a simple Vanille AutoEncoder."
      ]
    },
    {
      "cell_type": "markdown",
      "metadata": {
        "id": "tplS2fGXP2Pc",
        "colab_type": "text"
      },
      "source": [
        ""
      ]
    },
    {
      "cell_type": "code",
      "metadata": {
        "id": "jnXhPO-YM0Dg",
        "colab_type": "code",
        "colab": {}
      },
      "source": [
        "class autoEncoder(nn.Module):\n",
        "  def __init__(self,**kwargs):\n",
        "    super().__init__()\n",
        "    self.encoder = nn.Linear(kwargs[\"input_shape\"],kwargs[\"hiddenL_shape\"])\n",
        "    self.encode_bottleneck = nn.Linear(kwargs[\"hiddenL_shape\"],kwargs[\"hiddenL_shape\"])\n",
        "    self.decode_bottleneck = nn.Linear(kwargs[\"hiddenL_shape\"],kwargs[\"hiddenL_shape\"])\n",
        "    self.decoder = nn.Linear(kwargs[\"hiddenL_shape\"],kwargs[\"input_shape\"])\n",
        "\n",
        "\n",
        "  def forward(self,x):\n",
        "    x = F.relu(self.encoder(x))\n",
        "    x = F.relu(self.encode_bottleneck(x))\n",
        "    x = F.relu(self.decode_bottleneck(x))\n",
        "\n",
        "    x_reconstructed = F.tanh(self.decoder(x))\n",
        "    \n",
        "    return x_reconstructed"
      ],
      "execution_count": 7,
      "outputs": []
    },
    {
      "cell_type": "markdown",
      "metadata": {
        "id": "nx6-KMtTYINS",
        "colab_type": "text"
      },
      "source": [
        "#### Train the Network"
      ]
    },
    {
      "cell_type": "markdown",
      "metadata": {
        "id": "rko5gVntZM5M",
        "colab_type": "text"
      },
      "source": [
        "####Enable GPU"
      ]
    },
    {
      "cell_type": "code",
      "metadata": {
        "id": "d-KqnIr6ZMBX",
        "colab_type": "code",
        "colab": {
          "base_uri": "https://localhost:8080/",
          "height": 35
        },
        "outputId": "1ccb4b2d-7033-4ad0-c161-97884baacbce"
      },
      "source": [
        "device = torch.device(\"cuda\" if torch.cuda.is_available() else \"cpu\")\n",
        "try:\n",
        "  print(\"the GPU {} is being used by PyTorch.\".format(torch.cuda.get_device_name(0)))\n",
        "except:\n",
        "  print()\n",
        "\n"
      ],
      "execution_count": 8,
      "outputs": [
        {
          "output_type": "stream",
          "text": [
            "the GPU Tesla P100-PCIE-16GB is being used by PyTorch.\n"
          ],
          "name": "stdout"
        }
      ]
    },
    {
      "cell_type": "markdown",
      "metadata": {
        "id": "0iutqA61YLAw",
        "colab_type": "text"
      },
      "source": [
        "##### Create the network ,define the criterion and the optimizer"
      ]
    },
    {
      "cell_type": "code",
      "metadata": {
        "id": "YsiQCxymYRP8",
        "colab_type": "code",
        "colab": {}
      },
      "source": [
        "model =autoEncoder(input_shape=784,hiddenL_shape=64)\n",
        "criterion =nn.MSELoss() ##Mean squared error\n",
        "optimizer =optim.Adam(model.parameters(),lr=0.003)\n"
      ],
      "execution_count": 32,
      "outputs": []
    },
    {
      "cell_type": "markdown",
      "metadata": {
        "id": "_YPMFj4eYEog",
        "colab_type": "text"
      },
      "source": [
        ""
      ]
    },
    {
      "cell_type": "code",
      "metadata": {
        "id": "2MQtD2T0U_4U",
        "colab_type": "code",
        "colab": {
          "base_uri": "https://localhost:8080/",
          "height": 249
        },
        "outputId": "0400f332-2f24-4a78-c7a9-a4dbf6f3ffa3"
      },
      "source": [
        "##Train the network\n",
        "epochs =10\n",
        "running_loss=0\n",
        "for e in range(epochs):\n",
        "  running_loss=0\n",
        "  for images,_ in trainloader:\n",
        "    images =images.view(images.shape[0],-1)\n",
        "    target=model(images)\n",
        "\n",
        "    train_loss =criterion(target,images)\n",
        "\n",
        "    \n",
        "    optimizer.zero_grad()\n",
        "    train_loss.backward()\n",
        "    optimizer.step()\n",
        "    running_loss += train_loss.item()\n",
        "    \n",
        "    # compute the epoch training loss\n",
        "  running_loss = running_loss / len(trainloader)\n",
        "    # display the epoch training loss\n",
        "  print(\"epoch : {}/{}, loss = {:.6f}\".format(e + 1, epochs, running_loss))\n"
      ],
      "execution_count": 33,
      "outputs": [
        {
          "output_type": "stream",
          "text": [
            "/usr/local/lib/python3.6/dist-packages/torch/nn/functional.py:1558: UserWarning: nn.functional.tanh is deprecated. Use torch.tanh instead.\n",
            "  warnings.warn(\"nn.functional.tanh is deprecated. Use torch.tanh instead.\")\n"
          ],
          "name": "stderr"
        },
        {
          "output_type": "stream",
          "text": [
            "epoch : 1/10, loss = 0.089480\n",
            "epoch : 2/10, loss = 0.059022\n",
            "epoch : 3/10, loss = 0.053670\n",
            "epoch : 4/10, loss = 0.051204\n",
            "epoch : 5/10, loss = 0.049612\n",
            "epoch : 6/10, loss = 0.048431\n",
            "epoch : 7/10, loss = 0.047730\n",
            "epoch : 8/10, loss = 0.047182\n",
            "epoch : 9/10, loss = 0.046725\n",
            "epoch : 10/10, loss = 0.046297\n"
          ],
          "name": "stdout"
        }
      ]
    },
    {
      "cell_type": "markdown",
      "metadata": {
        "id": "NveBJmPiYAEJ",
        "colab_type": "text"
      },
      "source": [
        ""
      ]
    },
    {
      "cell_type": "code",
      "metadata": {
        "id": "IDkDtup-Si5Z",
        "colab_type": "code",
        "colab": {}
      },
      "source": [
        "%matplotlib inline\n",
        "%config InlineBackend.figure_format = 'retina'\n",
        "\n",
        "\n",
        "\n",
        "\n",
        "dataiter = iter(testloader)\n",
        "images, labels = dataiter.next()\n",
        "img = images[1]\n",
        "img=img.view(img.shape[0],-1)\n",
        "\n",
        "\n",
        "\n",
        "\n",
        "# Plot the image and probabilities\n"
      ],
      "execution_count": 40,
      "outputs": []
    },
    {
      "cell_type": "code",
      "metadata": {
        "id": "Alw1zjVYeP-a",
        "colab_type": "code",
        "colab": {
          "base_uri": "https://localhost:8080/",
          "height": 283
        },
        "outputId": "57fcdcaa-268a-492f-91f3-ca2d510f42d2"
      },
      "source": [
        "imshow(images[1,:])"
      ],
      "execution_count": 41,
      "outputs": [
        {
          "output_type": "execute_result",
          "data": {
            "text/plain": [
              "<matplotlib.axes._subplots.AxesSubplot at 0x7fa30613ec88>"
            ]
          },
          "metadata": {
            "tags": []
          },
          "execution_count": 41
        },
        {
          "output_type": "display_data",
          "data": {
            "image/png": "[encoded data removed]",
            "text/plain": [
              "<Figure size 432x288 with 1 Axes>"
            ]
          },
          "metadata": {
            "tags": [],
            "image/png": {
              "width": 251,
              "height": 248
            },
            "needs_background": "light"
          }
        }
      ]
    },
    {
      "cell_type": "code",
      "metadata": {
        "id": "Yaiy7SJsSi_c",
        "colab_type": "code",
        "colab": {
          "base_uri": "https://localhost:8080/",
          "height": 72
        },
        "outputId": "1a634291-0f88-4179-bd3a-cb3ae779b2be"
      },
      "source": [
        "# Test out  model reconstruction\n",
        "reconstructed_img = model(img)"
      ],
      "execution_count": 42,
      "outputs": [
        {
          "output_type": "stream",
          "text": [
            "/usr/local/lib/python3.6/dist-packages/torch/nn/functional.py:1558: UserWarning: nn.functional.tanh is deprecated. Use torch.tanh instead.\n",
            "  warnings.warn(\"nn.functional.tanh is deprecated. Use torch.tanh instead.\")\n"
          ],
          "name": "stderr"
        }
      ]
    },
    {
      "cell_type": "code",
      "metadata": {
        "id": "eIwNL6qQLmax",
        "colab_type": "code",
        "colab": {}
      },
      "source": [
        "reconstructed_img =torch.reshape(reconstructed_img,(1,28,28))\n"
      ],
      "execution_count": 44,
      "outputs": []
    },
    {
      "cell_type": "code",
      "metadata": {
        "id": "WUQ5YRh2M05H",
        "colab_type": "code",
        "colab": {}
      },
      "source": [
        "\n",
        "def plot(image, ax=None, title=None, normalize=True):\n",
        "    \n",
        "    if ax is None:\n",
        "        fig, ax = plt.subplots()\n",
        "    image = image.detach().numpy().transpose((1, 2, 0))\n",
        "    \n",
        "\n",
        "    if normalize:\n",
        "        mean = np.array([0.485, 0.456, 0.406])\n",
        "        std = np.array([0.229, 0.224, 0.225])\n",
        "        image = std * image + mean\n",
        "        image = np.clip(image, 0, 2)\n",
        "\n",
        "    ax.imshow(image)\n",
        "    \n",
        "    return ax"
      ],
      "execution_count": 38,
      "outputs": []
    },
    {
      "cell_type": "code",
      "metadata": {
        "id": "8qIggjRYSjCR",
        "colab_type": "code",
        "colab": {
          "base_uri": "https://localhost:8080/",
          "height": 548
        },
        "outputId": "c8dad04f-367e-48f1-a725-76f90376cfa7"
      },
      "source": [
        "plot(reconstructed_img) ,imshow(images[1,:])"
      ],
      "execution_count": 45,
      "outputs": [
        {
          "output_type": "execute_result",
          "data": {
            "text/plain": [
              "(<matplotlib.axes._subplots.AxesSubplot at 0x7fa3060df390>,\n",
              " <matplotlib.axes._subplots.AxesSubplot at 0x7fa30609abe0>)"
            ]
          },
          "metadata": {
            "tags": []
          },
          "execution_count": 45
        },
        {
          "output_type": "display_data",
          "data": {
            "image/png": "[encoded data removed]",
            "text/plain": [
              "<Figure size 432x288 with 1 Axes>"
            ]
          },
          "metadata": {
            "tags": [],
            "image/png": {
              "width": 251,
              "height": 248
            },
            "needs_background": "light"
          }
        },
        {
          "output_type": "display_data",
          "data": {
            "image/png": "[encoded data removed]",
            "text/plain": [
              "<Figure size 432x288 with 1 Axes>"
            ]
          },
          "metadata": {
            "tags": [],
            "image/png": {
              "width": 251,
              "height": 248
            },
            "needs_background": "light"
          }
        }
      ]
    },
    {
      "cell_type": "code",
      "metadata": {
        "id": "hXDbPkfRLhxa",
        "colab_type": "code",
        "colab": {}
      },
      "source": [
        ""
      ],
      "execution_count": null,
      "outputs": []
    }
  ]
}